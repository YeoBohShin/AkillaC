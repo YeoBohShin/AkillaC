{
 "cells": [
  {
   "cell_type": "code",
   "execution_count": 1,
   "metadata": {},
   "outputs": [],
   "source": [
    "import firebase_admin\n",
    "from firebase_admin import credentials, storage\n",
    "from flask import Flask, jsonify\n",
    "import json"
   ]
  },
  {
   "cell_type": "code",
   "execution_count": 2,
   "metadata": {},
   "outputs": [],
   "source": [
    "# TODO: Add the path to your Firebase service account JSON file\n",
    "cred = credentials.Certificate('serviceAccountKey.json')\n",
    "app = firebase_admin.initialize_app(cred, {\n",
    "    'databaseURL': 'https://akillac-f1499.firebaseio.com',\n",
    "    'projectId': 'akillac-f1499',\n",
    "    'storageBucket': 'akillac-f1499.appspot.com'\n",
    "})\n",
    "\n",
    "\n",
    "#Flask framework\n",
    "app = Flask(__name__)"
   ]
  },
  {
   "cell_type": "code",
   "execution_count": 3,
   "metadata": {},
   "outputs": [],
   "source": [
    "def upload_file(src_file_path, module_code, year, sem, ans_qns):\n",
    "  # Input for ans_qns = Answers or Questions\n",
    "\n",
    "  destination_path = f'{module_code}_{year}Sem{sem}{ans_qns}'\n",
    "  # Get a reference to the default Firebase Storage bucket\n",
    "  bucket = storage.bucket()\n",
    "\n",
    "  # Upload the file to Firebase Storage\n",
    "  blob = bucket.blob(destination_path)\n",
    "  blob.upload_from_filename(src_file_path)"
   ]
  },
  {
   "cell_type": "code",
   "execution_count": 4,
   "metadata": {},
   "outputs": [],
   "source": [
    "def upload_file_from_Flask(src_file, module_code, year, sem, ans_qns):\n",
    "  #Need to send a request with the key 'pdf file' hosting the pdf file (through form submission)\n",
    "  pdf_file = request.files['pdf_file']\n",
    "  if pdf_file:\n",
    "      # Upload the PDF file to Firebase Storage directly from memory\n",
    "      destination_path = f'{module_code}_{year}Sem{sem}{ans_qns}'\n",
    "      blob = bucket.blob(destination_path)\n",
    "      blob.upload_from_file(pdf_file)\n",
    "\n",
    "      return 'File uploaded to Firebase Storage successfully'\n",
    "  else:\n",
    "      return 'No file uploaded'"
   ]
  },
  {
   "cell_type": "code",
   "execution_count": 5,
   "metadata": {},
   "outputs": [],
   "source": [
    "## TO EDIT CUrrently using flask\n",
    "\n",
    "\n",
    "def download_file(module_code, year, sem, ans_qns):\n",
    "  # Input for ans_qns = Answers or Questions\n",
    "\n",
    "  destination_path = f'{module_code}_{year}Sem{sem}{ans_qns}'\n",
    "  # Get a reference to the default Firebase Storage bucket\n",
    "  bucket = storage.bucket()\n",
    "\n",
    "  # Upload the file to Firebase Storage\n",
    "  blob = bucket.blob(destination_path)\n",
    "  file_content = blob.download_as_bytes()\n",
    "\n",
    "  # Create a Flask response with the file content\n",
    "  response = make_response(file_content)\n",
    "  response.headers['Content-Type'] = 'application/pdf'\n",
    "  response.headers['Content-Disposition'] = f'attachment; filename={file_name}'\n",
    "\n",
    "  # To access the pdf file, use response.data\n",
    "#   # Call the download_file function and store the response\n",
    "# response = download_file(module_code, year, sem, ans_qns)\n",
    "\n",
    "# # Access the PDF file content from the response\n",
    "# pdf_file = response.data\n",
    "\n",
    "# # You can now use the `pdf_file` variable as needed, such as saving it to a file\n",
    "# with open('downloaded_file.pdf', 'wb') as file:\n",
    "#     file.write(pdf_file)\n",
    "\n",
    "\n",
    "return response"
   ]
  },
  {
   "cell_type": "code",
   "execution_count": 6,
   "metadata": {},
   "outputs": [],
   "source": [
    "def upload_file_from_blob(b, module_code, year, sem, ans_qns):\n",
    "    # Input for ans_qns = Answers or Questions\n",
    "    \n",
    "    destination_path = f'{module_code}_{year}Sem{sem}{ans_qns}'\n",
    "    # Get a reference to the default Firebase Storage bucket\n",
    "    bucket = storage.bucket()\n",
    "\n",
    "    # Download the file from the URL\n",
    "    file_content = b.file[0].preview\n",
    "\n",
    "    # Upload the file to Firebase Storage\n",
    "    blob = bucket.blob(destination_path)\n",
    "    blob.upload_from_string(file_content, content_type='application/pdf')\n",
    "\n",
    "    return 'File uploaded to Firebase Storage successfully'"
   ]
  },
  {
   "cell_type": "markdown",
   "metadata": {},
   "source": [
    "b = [{path: \"tut3.pdf\", preview: \"blob:http://localhost:3000/9f05a114-70bc-498b-bbc4-576feb72984e\"}]\n",
    "upload_file(b, 'btest', 2022, 2, 'Answer')"
   ]
  },
  {
   "cell_type": "code",
   "execution_count": 17,
   "metadata": {},
   "outputs": [],
   "source": [
    "def get_file_names_and_paths():\n",
    "    # Get a reference to the default Firebase Cloud Storage bucket\n",
    "    bucket = storage.bucket()\n",
    "    \n",
    "    files = []\n",
    "\n",
    "    # List all files and folders in the bucket\n",
    "    blobs = bucket.list_blobs()\n",
    "\n",
    "    # Extract file names and paths from the blobs\n",
    "    # Iterate over the blobs and print the file names\n",
    "    for blob in blobs:\n",
    "      if not blob.name.endswith('/'):\n",
    "        file_name = blob.name\n",
    "        parts =  file_name.split('_')\n",
    "        next_file = {}\n",
    "        next_file['courseCode'] = parts[0]\n",
    "        next_file['pypYear'] = parts[1][0:4]\n",
    "        next_file['semester'] = parts[1][7:8]\n",
    "        next_file['midOrFinals'] = parts[1][8:11]\n",
    "        next_file['ansOrQuestions'] = parts[1][11:].split('.')[0]\n",
    "        files.append(next_file)\n",
    "    \n",
    "    ret = json.dumps(files)\n",
    "\n",
    "    return ret"
   ]
  },
  {
   "cell_type": "code",
   "execution_count": 18,
   "metadata": {},
   "outputs": [
    {
     "data": {
      "text/plain": [
       "'[{\"courseCode\": \"CS2040S\", \"pypYear\": \"2019\", \"semester\": \"1\", \"midOrFinals\": \"Fin\", \"ansOrQuestions\": \"Answers\"}, {\"courseCode\": \"CS2040S\", \"pypYear\": \"2021\", \"semester\": \"2\", \"midOrFinals\": \"Fin\", \"ansOrQuestions\": \"Answers\"}, {\"courseCode\": \"CS2040S\", \"pypYear\": \"2022\", \"semester\": \"2\", \"midOrFinals\": \"Fin\", \"ansOrQuestions\": \"Answers\"}]'"
      ]
     },
     "execution_count": 18,
     "metadata": {},
     "output_type": "execute_result"
    }
   ],
   "source": [
    "get_file_names_and_paths()"
   ]
  },
  {
   "cell_type": "code",
   "execution_count": null,
   "metadata": {},
   "outputs": [],
   "source": []
  }
 ],
 "metadata": {
  "kernelspec": {
   "display_name": "Python 3",
   "language": "python",
   "name": "python3"
  },
  "language_info": {
   "codemirror_mode": {
    "name": "ipython",
    "version": 3
   },
   "file_extension": ".py",
   "mimetype": "text/x-python",
   "name": "python",
   "nbconvert_exporter": "python",
   "pygments_lexer": "ipython3",
   "version": "3.9.7"
  },
  "orig_nbformat": 4
 },
 "nbformat": 4,
 "nbformat_minor": 2
}
